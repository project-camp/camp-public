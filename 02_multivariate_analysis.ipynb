{
 "cells": [
  {
   "cell_type": "code",
   "execution_count": null,
   "metadata": {
    "vscode": {
     "languageId": "r"
    }
   },
   "outputs": [],
   "source": [
    "set.seed(999)\n",
    "options(scipen = 9)\n",
    "options(warn = -1)\n",
    "Sys.setlocale(\"LC_ALL\", \"en_US.UTF-8\")\n",
    "source(\"./environment/libraries.R\")\n",
    "knitr::opts_chunk$set(fig.height = 12, fig.width = 9, fig.dpi = 300)\n",
    "knitr::opts_chunk$set(warning = FALSE)"
   ]
  },
  {
   "cell_type": "code",
   "execution_count": null,
   "metadata": {
    "vscode": {
     "languageId": "r"
    }
   },
   "outputs": [],
   "source": [
    "name <- \"Kenya_E1\"\n",
    "dataset <- read.csv(paste0(\"./test/\", name, \"_processed.csv\"))\n",
    "dataset_c <- data.frame(dataset[7:ncol(dataset)], row.names = dataset$Serial)\n",
    "head(dataset_c)\n",
    "structures_geojson_path <- file.path(\"./data/\", paste0(name, \"_topo_lines.geojson\"))\n",
    "structures <- st_read(structures_geojson_path, quiet = TRUE)"
   ]
  },
  {
   "cell_type": "code",
   "execution_count": null,
   "metadata": {
    "vscode": {
     "languageId": "r"
    }
   },
   "outputs": [],
   "source": [
    "dataset_c_closed <- cbind(dataset_c, \"Res\" = 100 - rowSums(dataset_c)) # Create an acomp object\n",
    "dataset_acomp <- acomp(dataset_c_closed) \n",
    "descstats <- compositions::summary.acomp(dataset_acomp)\n",
    "descstats$totvar <- sum(descstats$variation) / (2 * ncol(dataset_acomp))\n",
    "cat(\"Compositional centre (closed to 1)\")\n",
    "descstats$mean\n",
    "cat(\"Mean pair-wise element ratios\")\n",
    "descstats$mean.ratio\n",
    "cat(\"Variation matrix\")\n",
    "descstats$variation\n",
    "cat(\"Total variation\")\n",
    "descstats$totvar"
   ]
  },
  {
   "cell_type": "code",
   "execution_count": null,
   "metadata": {
    "vscode": {
     "languageId": "r"
    }
   },
   "outputs": [],
   "source": [
    "par(bg = \"white\")\n",
    "par(mar = c(4, 4, 1, 1)) \n",
    "\n",
    "library(energy)\n",
    "\n",
    "# Evaluate multivariate normality on the ilr-transformed dataset using the Energy test\n",
    "dataset_ilr_mvn <- list()\n",
    "energy_test <- mvnorm.etest(as.matrix(ilr(dataset_acomp)), R = 199)\n",
    "dataset_ilr_mvn$multivariateNormality <- data.frame(\n",
    "  Test = \"Energy\",\n",
    "  Statistic = energy_test$statistic,\n",
    "  p.value = energy_test$p.value,\n",
    "  Result = ifelse(energy_test$p.value > 0.05, \"YES\", \"NO\")\n",
    ")\n",
    "dataset_ilr_mvn$multivariateNormality\n",
    "\n",
    "# Evaluate univariate normality (of each component) on the clr-transformed dataset using Shapiro-Wilk test\n",
    "dataset_clr_mvn <- list()\n",
    "clr_data <- clr(dataset_acomp)\n",
    "univariate_results <- data.frame(\n",
    "  Variable = colnames(clr_data),\n",
    "  Statistic = numeric(ncol(clr_data)),\n",
    "  p.value = numeric(ncol(clr_data)),\n",
    "  Normality = character(ncol(clr_data)),\n",
    "  stringsAsFactors = FALSE\n",
    ")\n",
    "\n",
    "for (i in 1:ncol(clr_data)) {\n",
    "  sw_test <- shapiro.test(clr_data[, i])\n",
    "  univariate_results$Statistic[i] <- sw_test$statistic\n",
    "  univariate_results$p.value[i] <- sw_test$p.value\n",
    "  univariate_results$Normality[i] <- ifelse(sw_test$p.value > 0.05, \"YES\", \"NO\")\n",
    "}\n",
    "\n",
    "dataset_clr_mvn$univariateNormality <- univariate_results\n",
    "dataset_clr_mvn$univariateNormality\n",
    "\n",
    "qqnorm(dataset_acomp) "
   ]
  },
  {
   "cell_type": "code",
   "execution_count": null,
   "metadata": {
    "vscode": {
     "languageId": "r"
    }
   },
   "outputs": [],
   "source": [
    "Rs <- compositions::cor(dataset_c, method = \"spearman\")\n",
    "colnames(Rs) <- colnames(dataset_c) \n",
    "rownames(Rs) <- colnames(dataset_c)\n",
    "\n",
    "ggcorrplot(Rs,\n",
    "           method = \"square\",\n",
    "           lab = TRUE,       \n",
    "           lab_size = 5,     \n",
    "           outline.color = \"black\",  \n",
    "           type = \"lower\",\n",
    "           ggtheme = theme_minimal())"
   ]
  },
  {
   "cell_type": "code",
   "execution_count": null,
   "metadata": {
    "vscode": {
     "languageId": "r"
    }
   },
   "outputs": [],
   "source": [
    "pca_result <- prcomp(clr(dataset_acomp)) # Perform PCA on CLR-transformed data\n",
    "summary(pca_result)\n",
    "cat(\"Variable contribution to each component\")\n",
    "pca_result$rotation"
   ]
  },
  {
   "cell_type": "code",
   "execution_count": null,
   "metadata": {
    "vscode": {
     "languageId": "r"
    }
   },
   "outputs": [],
   "source": [
    "source(\"./utils/functions/quick_pca_screeplot.R\")\n",
    "quick_pca_screeplot(pca_result)"
   ]
  },
  {
   "cell_type": "code",
   "execution_count": null,
   "metadata": {
    "vscode": {
     "languageId": "r"
    }
   },
   "outputs": [],
   "source": [
    "source(\"./utils/functions/quick_pca_biplot.R\")\n",
    "quick_pca_biplot(pca_result, x = \"PC1\", y = \"PC2\", arrow_scale_factor = \"auto\", \n",
    "                 add_labels = FALSE)\n"
   ]
  },
  {
   "cell_type": "code",
   "execution_count": null,
   "metadata": {
    "vscode": {
     "languageId": "r"
    }
   },
   "outputs": [],
   "source": [
    "par(bg = \"white\", mfrow = c(1, 2))\n",
    "options(repr.plot.width = 12, repr.plot.height = 6)\n",
    "\n",
    "dataset_c %>%\n",
    "  dplyr::select(Si, Al, Fe) %>%\n",
    "  acomp %>%\n",
    "  plot(cex=1, pca = TRUE, center = FALSE)\n",
    "  isoPortionLines(at=c(0.1, 0.25, 0.5, 0.75, 0.9), col=\"grey\", lty=2)\n",
    "\n",
    "dataset_c %>%\n",
    "  dplyr::select(Si, Al, Fe) %>%\n",
    "  acomp %>%\n",
    "  plot(cex=1, pca = TRUE, center = TRUE)\n",
    "  isoPortionLines(at=c(0.1, 0.25, 0.5, 0.75, 0.9), col=\"grey\", lty=2)"
   ]
  },
  {
   "cell_type": "code",
   "execution_count": null,
   "metadata": {
    "vscode": {
     "languageId": "r"
    }
   },
   "outputs": [],
   "source": [
    "source(\"./utils/functions/create_quick_map.R\")\n",
    "options(repr.plot.width = 15, repr.plot.height = 10)\n",
    "\n",
    "quick_pca_biplot(pca_result, group_data = dataset$Type, x = \"PC1\", y = \"PC2\", arrow_scale_factor = \"auto\", \n",
    "                 add_labels = FALSE)\n",
    "\n",
    "create_quick_map(dataset, structures, group_data = \"Type\")"
   ]
  },
  {
   "cell_type": "code",
   "execution_count": null,
   "metadata": {
    "vscode": {
     "languageId": "r"
    }
   },
   "outputs": [],
   "source": [
    "par(bg = \"white\")\n",
    "options(repr.plot.width = 12, repr.plot.height = 6)\n",
    "\n",
    "nb <- NbClust(as.matrix(ilr(dataset_acomp)),\n",
    "              distance = \"euclidean\", \n",
    "              method = \"kmeans\", \n",
    "              min.nc = 4) \n",
    "cat(nb$bg)\n",
    "Cluster <- factor(nb$Best.partition)\n"
   ]
  },
  {
   "cell_type": "code",
   "execution_count": null,
   "metadata": {
    "vscode": {
     "languageId": "r"
    }
   },
   "outputs": [],
   "source": [
    "options(repr.plot.width = 20, repr.plot.height = 15)\n",
    "dataset$Cluster <- Cluster\n",
    "quick_pca_biplot(pca_result, group_data = dataset$Cluster, x = \"PC1\", y = \"PC2\", arrow_scale_factor = \"auto\", \n",
    "                 add_labels = TRUE)\n",
    "create_quick_map(dataset, structures, group_data = \"Cluster\")"
   ]
  }
 ],
 "metadata": {
  "kernelspec": {
   "display_name": "R",
   "language": "R",
   "name": "ir"
  },
  "language_info": {
   "codemirror_mode": "r",
   "file_extension": ".r",
   "mimetype": "text/x-r-source",
   "name": "R",
   "pygments_lexer": "r",
   "version": "4.3.3"
  }
 },
 "nbformat": 4,
 "nbformat_minor": 2
}
