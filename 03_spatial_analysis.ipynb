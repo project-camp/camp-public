{
 "cells": [
  {
   "cell_type": "code",
   "execution_count": null,
   "metadata": {
    "vscode": {
     "languageId": "r"
    }
   },
   "outputs": [],
   "source": [
    "set.seed(999)\n",
    "options(scipen = 9)\n",
    "options(warn = -1) \n",
    "source(\"./environment/libraries.R\")\n",
    "knitr::opts_chunk$set(fig.height = 12, fig.width = 18, fig.dpi = 300)\n",
    "knitr::opts_chunk$set(warning = FALSE)"
   ]
  },
  {
   "cell_type": "code",
   "execution_count": null,
   "metadata": {
    "vscode": {
     "languageId": "r"
    }
   },
   "outputs": [],
   "source": [
    "name <- \"Kenya_E1\"\n",
    "dataset <- read.csv(paste0(\"./test/\", name, \"_processed.csv\"))\n",
    "dataset_c <- data.frame(dataset[7:ncol(dataset)], row.names = dataset$Serial)\n",
    "proj_coord <- data.frame(\"Easting\" = dataset$Easting, \"Northing\" = dataset$Northing)\n",
    "xy_coord <- data.frame(\"Longitude\" = dataset$Longitude, \"Latitude\" = dataset$Latitude)\n",
    "\n",
    "dataset_c_closed <- cbind(dataset_c, \"Res\" = 100 - rowSums(dataset_c)) \n",
    "head(dataset_c_closed)\n",
    "\n",
    "dataset_spdf <- cbind(proj_coord, dataset_c_closed)\n",
    "rownames(dataset_spdf) <- rownames(dataset_c)\n",
    "\n",
    "structures_geojson_path <- file.path(\"./data/\", paste0(name, \"_topo_lines.geojson\"))\n",
    "structures <- st_read(structures_geojson_path, quiet = TRUE)\n",
    "structures_utm <- st_transform(structures, crs = 32735) # Transform to UTM Zone 35S (WGS84)\n"
   ]
  },
  {
   "cell_type": "code",
   "execution_count": null,
   "metadata": {
    "vscode": {
     "languageId": "r"
    }
   },
   "outputs": [],
   "source": [
    "source(\"./utils/functions/create_quick_map.R\")\n",
    "options(repr.plot.width = 10, repr.plot.height = 10)\n",
    "\n",
    "dbscan_result <- dbscan(dataset_spdf[, c(\"Easting\", \"Northing\")], \n",
    "                        eps = 10, # Maximum distance between two points to be considered neighbors,\n",
    "                        minPts = 2) # Minimum number of points required to form a dense region\n",
    "\n",
    "Area <- factor(dbscan_result$cluster)\n",
    "dataset$Area <- Area \n",
    "create_quick_map(dataset, structures, group_data = \"Area\")\n"
   ]
  },
  {
   "cell_type": "code",
   "execution_count": null,
   "metadata": {
    "vscode": {
     "languageId": "r"
    }
   },
   "outputs": [],
   "source": [
    "dataset_spdf$Area <- Area \n",
    "\n",
    "# Create SpatialPointsDataFrames (compositional, ilr, clr)\n",
    "spdf_comp <- SpatialPointsDataFrame(coords = dataset_spdf[, c(\"Easting\", \"Northing\")], \n",
    "                                    data = dataset_spdf[, -c(1, 2, ncol(dataset_spdf))], \n",
    "                                    proj4string = CRS(\"+proj=utm +zone=37 +north +datum=WGS84\"))\n",
    "spdf_ilr <- SpatialPointsDataFrame(coords = dataset_spdf[, c(\"Easting\", \"Northing\")], \n",
    "                                   data = as.data.frame(ilr(dataset_spdf[, -c(1, 2, ncol(dataset_spdf))])), \n",
    "                                   proj4string = CRS(\"+proj=utm +zone=37 +north +datum=WGS84\")) \n",
    "spdf_clr <- SpatialPointsDataFrame(coords = dataset_spdf[, c(\"Easting\", \"Northing\")], \n",
    "                                   data = as.data.frame(clr(dataset_spdf[, -c(1, 2, ncol(dataset_spdf))])),  \n",
    "                                   proj4string = CRS(\"+proj=utm +zone=37 +north +datum=WGS84\")) \n"
   ]
  },
  {
   "cell_type": "code",
   "execution_count": null,
   "metadata": {
    "vscode": {
     "languageId": "r"
    }
   },
   "outputs": [],
   "source": [
    "par(bg = \"white\")\n",
    "options(repr.plot.width = 20, repr.plot.height = 15)\n",
    "pairsmap(data = spdf_clr@data, loc = spdf_clr@coords)"
   ]
  },
  {
   "cell_type": "code",
   "execution_count": null,
   "metadata": {
    "vscode": {
     "languageId": "r"
    }
   },
   "outputs": [],
   "source": [
    "par(bg = \"white\")\n",
    "source(\"./utils/functions/create_grid_from_spdf.R\")\n",
    "source(\"./utils/functions/idw_compositional.R\")\n",
    "grid <- create_grid_from_spdf(spdf_ilr, resolution = 0.2, buffer = 2, convex_hull = FALSE)\n",
    "\n",
    "# Perform IDW interpolation with compositional data\n",
    "idw_compositional(spdf_ilr, orig = dataset_c_closed, grid = grid,\n",
    "                  idp = 2, maxdist = 5, focal_window = 1,\n",
    "                  plot_idw = TRUE, plot_ncol = 3)"
   ]
  },
  {
   "cell_type": "code",
   "execution_count": null,
   "metadata": {
    "vscode": {
     "languageId": "r"
    }
   },
   "outputs": [],
   "source": [
    "par(bg = \"white\")\n",
    "options(repr.plot.width = 20, repr.plot.height = 15)\n",
    "swath(acomp(spdf_comp@data), spdf_comp@coords[,\"Easting\"], col = 8, xlab = \"Easting\", commonScale = FALSE)\n",
    "swath(acomp(spdf_comp@data), spdf_comp@coords[,\"Northing\"], col = 8, xlab = \"Northing\", commonScale = FALSE)"
   ]
  },
  {
   "cell_type": "code",
   "execution_count": null,
   "metadata": {
    "vscode": {
     "languageId": "r"
    }
   },
   "outputs": [],
   "source": [
    "par(bg = \"white\", mfrow = c(2, 1))\n",
    "options(repr.plot.width = 15, repr.plot.height = 12)\n",
    "source(\"./utils/functions/lag_distance_from_spdf.R\")\n",
    "source(\"./utils/functions/site_diagonal_from_spdf.R\")\n",
    "source(\"./utils/functions/create_gstat_from_spdf.R\")\n",
    "\n",
    "\n",
    "g <- create_gstat_from_spdf(spdf_clr, method = \"universal\") # Compute omnidirectional variograms\n",
    "lag_dist <- lag_distance_from_spdf(spdf_clr) # Calculate the lag distance for variogram width\n",
    "site_diag <- site_diagonal_from_spdf(spdf_clr) # Calculate site diagonal for variogram cutoff\n",
    "\n",
    "v_omni <- variogram(g, \n",
    "               width = lag_dist / 2, cutoff = site_diag / 3, \n",
    "               cross = FALSE) \n",
    "plot(v_omni, type = \"p\")"
   ]
  },
  {
   "cell_type": "code",
   "execution_count": null,
   "metadata": {
    "vscode": {
     "languageId": "r"
    }
   },
   "outputs": [],
   "source": [
    "par(bg = \"white\")\n",
    "options(repr.plot.width = 18, repr.plot.height = 12)\n",
    "source(\"./utils/functions/quick_anis_variogram.R\")\n",
    "\n",
    "\n",
    "g <- create_gstat_from_spdf(spdf_clr, method = \"universal\") # Create gstat object using CLR-transformed data\n",
    "\n",
    "# Compute anisotropic variograms (alpha indicates the direction: 0 is NS, 45 is NE-SW, 90 is EW, 135 is NW-SE)\n",
    "v_dir <- variogram(g, \n",
    "                   width = lag_dist / 2, cutoff = site_diag / 3,\n",
    "                   alpha = c(0, 45, 90, 135), \n",
    "                   tol.hor = 22.5, \n",
    "                   cross = FALSE) \n",
    "\n",
    "quick_anis_variogram(v_dir, directions = c(0, 90), direction_labels = c(\"NS\", \"EW\"))\n",
    "quick_anis_variogram(v_dir, directions = c(45, 135), direction_labels = c(\"NE-SW\", \"NW-SE\"))\n"
   ]
  },
  {
   "cell_type": "code",
   "execution_count": null,
   "metadata": {
    "vscode": {
     "languageId": "r"
    }
   },
   "outputs": [],
   "source": [
    "par(bg = \"white\")\n",
    "options(repr.plot.width = 15, repr.plot.height = 15)\n",
    "\n",
    "# Create anisotropy plot with minimal parameters\n",
    "vario <- logratioVariogram(data = acomp(spdf_comp@data), \n",
    "                          loc = spdf_comp@coords, \n",
    "                          maxdist = site_diag / 6,  \n",
    "                          azimuth = c(0, 45, 90, 135), \n",
    "                          azimuth.tol = 45)  \n",
    "image(vario)"
   ]
  }
 ],
 "metadata": {
  "kernelspec": {
   "display_name": "R",
   "language": "R",
   "name": "ir"
  },
  "language_info": {
   "codemirror_mode": "r",
   "file_extension": ".r",
   "mimetype": "text/x-r-source",
   "name": "R",
   "pygments_lexer": "r",
   "version": "4.3.3"
  }
 },
 "nbformat": 4,
 "nbformat_minor": 2
}
