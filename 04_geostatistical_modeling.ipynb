{
 "cells": [
  {
   "cell_type": "code",
   "execution_count": null,
   "metadata": {
    "vscode": {
     "languageId": "r"
    }
   },
   "outputs": [],
   "source": [
    "set.seed(999)\n",
    "options(scipen = 9)\n",
    "options(warn = -1) \n",
    "source(\"./environment/libraries.R\")\n",
    "knitr::opts_chunk$set(fig.height = 12, fig.width = 18, fig.dpi = 300)\n",
    "knitr::opts_chunk$set(warning = FALSE)"
   ]
  },
  {
   "cell_type": "code",
   "execution_count": null,
   "metadata": {
    "vscode": {
     "languageId": "r"
    }
   },
   "outputs": [],
   "source": [
    "name <- \"Kenya_E1\"\n",
    "dataset <- read.csv(paste0(\"./test/\", name, \"_processed.csv\"))\n",
    "dataset_c <- data.frame(dataset[7:ncol(dataset)], row.names = dataset$Serial)\n",
    "proj_coord <- data.frame(\"Easting\" = dataset$Easting, \"Northing\" = dataset$Northing)\n",
    "xy_coord <- data.frame(\"Longitude\" = dataset$Longitude, \"Latitude\" = dataset$Latitude)\n",
    "\n",
    "dataset_c_closed <- cbind(dataset_c, \"Res\" = 100 - rowSums(dataset_c)) \n",
    "head(dataset_c_closed)\n",
    "\n",
    "dataset_spdf <- cbind(proj_coord, dataset_c_closed)\n",
    "rownames(dataset_spdf) <- rownames(dataset_c)\n",
    "\n",
    "structures_geojson_path <- file.path(\"./data\", paste0(name, \"_topo_lines.geojson\"))\n",
    "structures <- st_read(structures_geojson_path, quiet = TRUE)\n",
    "structures_utm <- st_transform(structures, crs = 32637) # Transform to UTM Zone 35S (WGS84)\n",
    "\n",
    "\n",
    "output_dirs <- \"./test/ck/\"\n",
    "if (!dir.exists(output_dirs)) {\n",
    "  dir.create(output_dirs, recursive = TRUE)\n",
    "}"
   ]
  },
  {
   "cell_type": "code",
   "execution_count": null,
   "metadata": {
    "vscode": {
     "languageId": "r"
    }
   },
   "outputs": [],
   "source": [
    "source(\"./utils/functions/create_quick_map.R\")\n",
    "options(repr.plot.width = 10, repr.plot.height = 10)\n",
    "\n",
    "dbscan_result <- dbscan(dataset_spdf[, c(\"Easting\", \"Northing\")], eps = 10, minPts = 5)\n",
    "Area <- factor(dbscan_result$cluster)\n",
    "dataset$Area <- Area\n",
    "create_quick_map(dataset, structures, group_data = \"Area\")\n",
    "\n",
    "dataset_spdf$Area <- Area\n",
    "dataset_spdf <- dataset_spdf[dataset_spdf$Area == 2, ]"
   ]
  },
  {
   "cell_type": "code",
   "execution_count": null,
   "metadata": {
    "vscode": {
     "languageId": "r"
    }
   },
   "outputs": [],
   "source": [
    "create_spatial_objects <- function(data_spdf, transformation = \"none\") {\n",
    "  coords <- data_spdf[, c(\"Easting\", \"Northing\")]\n",
    "  crs_string <- \"+proj=utm +zone=37 +north +datum=WGS84\"\n",
    "  \n",
    "  if (transformation == \"ilr\") {\n",
    "    spatial_data <- as.data.frame(ilr(data_spdf[, -c(1, 2, ncol(data_spdf))]))\n",
    "  } else if (transformation == \"clr\") {\n",
    "    spatial_data <- as.data.frame(clr(data_spdf[, -c(1, 2, ncol(data_spdf))]))\n",
    "  } else {\n",
    "    spatial_data <- data_spdf[, -c(1, 2, ncol(data_spdf))]\n",
    "  }\n",
    "  \n",
    "  return(SpatialPointsDataFrame(coords = coords, data = spatial_data, \n",
    "                               proj4string = CRS(crs_string)))\n",
    "}\n",
    "\n",
    "spdf_comp <- create_spatial_objects(dataset_spdf, \"none\")\n",
    "spdf_ilr <- create_spatial_objects(dataset_spdf, \"ilr\")\n",
    "spdf_clr <- create_spatial_objects(dataset_spdf, \"clr\")\n",
    "\n",
    "source(\"./utils/functions/lag_distance_from_spdf.R\")\n",
    "source(\"./utils/functions/site_diagonal_from_spdf.R\")\n",
    "lag_dist <- lag_distance_from_spdf(spdf_ilr)\n",
    "site_diag <- site_diagonal_from_spdf(spdf_ilr)"
   ]
  },
  {
   "cell_type": "code",
   "execution_count": null,
   "metadata": {
    "vscode": {
     "languageId": "r"
    }
   },
   "outputs": [],
   "source": [
    "source(\"./utils/functions/geostatistical_analysis.R\")\n",
    "source(\"./utils/functions/validate_geostatistical_predictions.R\")"
   ]
  },
  {
   "cell_type": "code",
   "execution_count": null,
   "metadata": {
    "vscode": {
     "languageId": "r"
    }
   },
   "outputs": [],
   "source": [
    "results_ilr_omni <- geostatistical_analysis(spdf_ilr, \"ILR_Omnidirectional\", lag_dist, site_diag, directional = FALSE)"
   ]
  },
  {
   "cell_type": "code",
   "execution_count": null,
   "metadata": {
    "vscode": {
     "languageId": "r"
    }
   },
   "outputs": [],
   "source": [
    "validate_predictions(spdf_ilr, results_ilr_omni$ck, results_ilr_omni$g)"
   ]
  },
  {
   "cell_type": "code",
   "execution_count": null,
   "metadata": {
    "vscode": {
     "languageId": "r"
    }
   },
   "outputs": [],
   "source": [
    "results_ilr_dir <- geostatistical_analysis(spdf_ilr, \"ILR_Directional\", lag_dist, site_diag, directional = FALSE)"
   ]
  },
  {
   "cell_type": "code",
   "execution_count": null,
   "metadata": {
    "vscode": {
     "languageId": "r"
    }
   },
   "outputs": [],
   "source": [
    "validate_predictions(spdf_ilr, results_ilr_dir$ck, results_ilr_dir$g)"
   ]
  },
  {
   "cell_type": "code",
   "execution_count": null,
   "metadata": {
    "vscode": {
     "languageId": "r"
    }
   },
   "outputs": [],
   "source": [
    "par(bg = \"white\")\n",
    "options(repr.plot.width = 15, repr.plot.height = 12)\n",
    "\n",
    "# Compute MAF analysis\n",
    "g_temp <- create_gstat_from_spdf(spdf_ilr, method = \"ordinary\")\n",
    "v_omni <- variogram(g_temp, width = lag_dist / 2, cutoff = site_diag / 3, cross = TRUE)\n",
    "maf_result <- Maf(spdf_ilr@data, vg = v_omni)\n",
    "\n",
    "source(\"./utils/functions/quick_pca_screeplot.R\")\n",
    "quick_pca_screeplot(maf_result)\n",
    "maf_dataset <- maf_result$scores[, 1:9]\n",
    "spdf_maf <- SpatialPointsDataFrame(coords = dataset_spdf[, c(\"Easting\", \"Northing\")], \n",
    "                                  data = as.data.frame(maf_dataset),\n",
    "                                  proj4string = CRS(\"+proj=utm +zone=37 +north +datum=WGS84\"))\n",
    "\n",
    "results_maf_omni <- geostatistical_analysis(spdf_maf, \"MAF_Omnidirectional\", lag_dist, site_diag,\n",
    "                                           directional = FALSE, maf_result = maf_result, \n",
    "                                           resolution = 2)\n"
   ]
  },
  {
   "cell_type": "code",
   "execution_count": null,
   "metadata": {
    "vscode": {
     "languageId": "r"
    }
   },
   "outputs": [],
   "source": [
    "validate_predictions(spdf_maf, results_maf_omni$ck, results_maf_omni$g)"
   ]
  },
  {
   "cell_type": "code",
   "execution_count": null,
   "metadata": {
    "vscode": {
     "languageId": "r"
    }
   },
   "outputs": [],
   "source": [
    "g_temp2 <- create_gstat_from_spdf(spdf_ilr, method = \"ordinary\")\n",
    "v_dir <- variogram(g_temp2, width = lag_dist / 2, cutoff = site_diag / 3,\n",
    "                  alpha = c(0, 45, 90, 135), tol.hor = 22.5, cross = FALSE)\n",
    "\n",
    "maf_result2 <- Maf(spdf_ilr@data, vg = v_dir)\n",
    "quick_pca_screeplot(maf_result2)\n",
    "maf_dataset2 <- maf_result2$scores[, 1:10]\n",
    "spdf_maf2 <- SpatialPointsDataFrame(coords = dataset_spdf[, c(\"Easting\", \"Northing\")], \n",
    "                                   data = as.data.frame(maf_dataset2),\n",
    "                                   proj4string = CRS(\"+proj=utm +zone=37 +north +datum=WGS84\"))\n",
    "\n",
    "results_maf_dir <- geostatistical_analysis(spdf_maf2, \"MAF_Directional\", lag_dist, site_diag,\n",
    "                                          directional = TRUE, maf_result = maf_result2, \n",
    "                                          resolution = 2)\n"
   ]
  },
  {
   "cell_type": "code",
   "execution_count": null,
   "metadata": {
    "vscode": {
     "languageId": "r"
    }
   },
   "outputs": [],
   "source": [
    "validate_predictions(spdf_maf2, results_maf_dir$ck, results_maf_dir$g)"
   ]
  },
  {
   "cell_type": "code",
   "execution_count": null,
   "metadata": {
    "vscode": {
     "languageId": "r"
    }
   },
   "outputs": [],
   "source": [
    "source(\"./utils/functions/create_ck_maplist_from_list.R\")\n",
    "\n",
    "ck_files <- list.files(\"./test/ck/\", full.names = TRUE, pattern = paste0(name, \".*\\\\.rds$\"), recursive = TRUE)\n",
    "ck_list <- lapply(ck_files, readRDS)\n",
    "\n",
    "if (length(ck_list) > 0) {\n",
    "  cat(\"Available cokriging results:\", length(ck_list), \"\\n\")\n",
    "  cat(\"Files:\", basename(ck_files), \"\\n\")\n",
    "  \n",
    "  if (length(ck_list) > 1) {\n",
    "    cat(\"Multiple methods completed. Individual results saved in method subdirectories\\n\")\n",
    "  }\n",
    "} else {\n",
    "  cat(\"No cokriging results found\\n\")\n",
    "}\n",
    "cat(\"Geostatistical workflow completed successfully!\\n\")"
   ]
  }
 ],
 "metadata": {
  "kernelspec": {
   "display_name": "R",
   "language": "R",
   "name": "ir"
  },
  "language_info": {
   "codemirror_mode": "r",
   "file_extension": ".r",
   "mimetype": "text/x-r-source",
   "name": "R",
   "pygments_lexer": "r",
   "version": "4.3.3"
  }
 },
 "nbformat": 4,
 "nbformat_minor": 2
}
